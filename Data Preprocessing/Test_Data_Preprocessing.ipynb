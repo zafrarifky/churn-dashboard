{
  "nbformat": 4,
  "nbformat_minor": 0,
  "metadata": {
    "colab": {
      "name": "Copy of DS Project Preprocessing Final.ipynb",
      "provenance": [],
      "collapsed_sections": []
    },
    "kernelspec": {
      "name": "python3",
      "display_name": "Python 3"
    },
    "language_info": {
      "name": "python"
    }
  },
  "cells": [
    {
      "cell_type": "code",
      "execution_count": null,
      "metadata": {
        "id": "NbqiVUd3nx14"
      },
      "outputs": [],
      "source": [
        "import pandas as pd\n",
        "import numpy as np\n",
        "\n",
        "import seaborn as sns\n",
        "import matplotlib.pyplot as plt"
      ]
    },
    {
      "cell_type": "code",
      "source": [
        "test_df = pd.read_csv(\"Test_Dataset.csv\")"
      ],
      "metadata": {
        "id": "hO0qFrMhtNAO"
      },
      "execution_count": null,
      "outputs": []
    },
    {
      "cell_type": "code",
      "source": [
        "test_df.drop('Unnamed: 19', axis=1, inplace=True)\n",
        "test_df.drop('Unnamed: 20', axis=1, inplace=True)"
      ],
      "metadata": {
        "id": "I5e7vw5OtOrQ"
      },
      "execution_count": null,
      "outputs": []
    },
    {
      "cell_type": "code",
      "source": [
        "test_df['location_code'].fillna(test_df['location_code'].mode()[0], inplace=True)"
      ],
      "metadata": {
        "id": "4G_iEQGKeWrS"
      },
      "execution_count": null,
      "outputs": []
    },
    {
      "cell_type": "code",
      "source": [
        "def preprocess_data(df):\n",
        "  # filling the NaN values of international plan with the mode\n",
        "  df['intertiol_plan'].fillna(df['intertiol_plan'].mode()[0], inplace=True)\n",
        "\n",
        "  df.loc[((df['voice_mail_plan'] == 'no') | (df['voice_mail_plan'].isna())) & (df['number_vm_messages'] != 0), 'number_vm_messages'] = 0.0\n",
        "  df.loc[(df['voice_mail_plan'].isna()) & (df['number_vm_messages'] == 0), 'voice_mail_plan'] = 'no'\n",
        "  df.loc[(df['voice_mail_plan'] == 'yes') & (df['number_vm_messages'].isna()), 'number_vm_messages'] = 0\n",
        "\n",
        "  cols_with_neg = ['total_day_min', 'total_day_charge', 'total_day_calls', 'total_eve_min', 'total_eve_calls', 'total_night_minutes', 'total_intl_minutes', 'total_intl_calls']\n",
        "  for col in cols_with_neg:\n",
        "    df[col] = np.abs(df[col])\n",
        "\n",
        "\n",
        "  charge_per_min_day = np.mean(df['total_day_charge']/df['total_day_min'])\n",
        "  df.loc[df['total_day_min'].isna(), 'total_day_min'] = df['total_day_charge']/charge_per_min_day\n",
        "  df.loc[df['total_day_charge'].isna(), 'total_day_charge'] = df['total_day_min']*charge_per_min_day\n",
        "\n",
        "  avg_call_dur_day = np.mean(df['total_day_min']/df['total_day_calls'])\n",
        "  df.loc[df['total_day_calls'].isna(), 'total_day_calls'] = np.round(df['total_day_min']/avg_call_dur_day, 0)\n",
        "\n",
        "\n",
        "  charge_per_min_eve = np.mean(df['total_eve_charge']/df['total_eve_min'])\n",
        "  df.loc[df['total_eve_min'].isna(), 'total_eve_min'] = df['total_eve_charge']/charge_per_min_eve\n",
        "  df.loc[df['total_eve_charge'].isna(), 'total_eve_charge'] = df['total_eve_min']*charge_per_min_eve\n",
        "\n",
        "  avg_call_dur_eve = np.mean(df['total_eve_min']/df['total_eve_calls'])\n",
        "  df.loc[df['total_eve_calls'].isna(), 'total_eve_calls'] = np.round(df['total_eve_min']/avg_call_dur_eve, 0)\n",
        "\n",
        "\n",
        "  charge_per_min_night = np.mean(df['total_night_charge']/df['total_night_minutes'])\n",
        "  df.loc[df['total_night_minutes'].isna(), 'total_night_minutes'] = df['total_night_charge']/charge_per_min_night\n",
        "  df.loc[df['total_night_charge'].isna(), 'total_night_charge'] = df['total_night_minutes']*charge_per_min_night\n",
        "\n",
        "  avg_call_dur_night = np.mean(df['total_night_minutes']/df['total_night_calls'])\n",
        "  df.loc[df['total_night_calls'].isna(), 'total_night_calls'] = np.round(df['total_night_minutes']/avg_call_dur_night, 0)\n",
        "\n",
        "\n",
        "  charge_per_min_intl = np.mean(df['total_intl_charge']/df['total_intl_minutes'])\n",
        "  df.loc[df['total_intl_minutes'].isna(), 'total_intl_minutes'] = df['total_intl_charge']/charge_per_min_intl\n",
        "  df.loc[df['total_intl_charge'].isna(), 'total_intl_charge'] = df['total_intl_minutes']*charge_per_min_intl\n",
        "\n",
        "  intl_calls = df[(df['total_intl_calls']>0)]\n",
        "  avg_call_dur_intl = np.mean(intl_calls['total_intl_minutes']/intl_calls['total_intl_calls'])\n",
        "  df.loc[df['total_intl_calls'].isna(), 'total_intl_calls'] = np.round(df['total_intl_minutes']/avg_call_dur_intl, 0)\n",
        "\n",
        "\n",
        "  df.loc[df['total_intl_calls']==0, ['total_intl_minutes', 'total_intl_charge']] = 0.0\n",
        "\n",
        "  df.loc[df['customer_service_calls'].isna(), 'customer_service_calls'] = 0"
      ],
      "metadata": {
        "id": "6qqrfYZBBfTh"
      },
      "execution_count": null,
      "outputs": []
    },
    {
      "cell_type": "code",
      "source": [
        "preprocess_data(chatterbox)\n",
        "preprocess_data(test_df)"
      ],
      "metadata": {
        "id": "TwYiVaHfrLIe"
      },
      "execution_count": null,
      "outputs": []
    },
    {
      "cell_type": "code",
      "source": [
        "test_df.loc[(test_df['total_day_min'].isna()) & (test_df['total_day_charge'].isna()), ['total_day_min', 'total_day_calls', 'total_day_charge']] = 0"
      ],
      "metadata": {
        "id": "VGKOuyjfs5ia"
      },
      "execution_count": null,
      "outputs": []
    },
    {
      "cell_type": "code",
      "source": [
        "test_df.to_csv(\"Test_Dataset_preprocessed.csv\", index=False)"
      ],
      "metadata": {
        "id": "tfYBXyhIAdSQ"
      },
      "execution_count": null,
      "outputs": []
    }
  ]
}